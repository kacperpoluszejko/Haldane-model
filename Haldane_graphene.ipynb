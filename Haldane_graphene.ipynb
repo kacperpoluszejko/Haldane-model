{
 "cells": [
  {
   "cell_type": "markdown",
   "id": "angry-melbourne",
   "metadata": {},
   "source": [
    "# Analysis of the Haldane and Kane-Mele models in the context of the topological properties of twisted MoTe₂/WSe₂ bilayer (Haldane graphene model).\n",
    "\n",
    "The main aim of this script is to create computational model of Haldane Chern insulator. The Chern insulator exhibits a quantized Hall effect without Landau levels. Theoretically, this state can be achieved by designing complex next-nearest-neighbour hopping on a honeycomb lattice, known as the Haldane model.\n",
    "\n",
    "Python program located below was created based on theory presented in work: https://topocondmat.org/w4_haldane/haldane_model.html. It is a basic Haldane model using graphene as an example.\n",
    "\n",
    "This research was funded by the National Science Centre Poland (NCN) according to decision 2021/42/E/ST3/00128"
   ]
  },
  {
   "cell_type": "code",
   "execution_count": 1,
   "id": "passing-alcohol",
   "metadata": {},
   "outputs": [],
   "source": [
    "from types import SimpleNamespace\n",
    "\n",
    "from ipywidgets import interact\n",
    "import matplotlib\n",
    "from matplotlib import pyplot as plt\n",
    "from mpl_toolkits import mplot3d\n",
    "import numpy as np\n",
    "\n",
    "import kwant\n",
    "\n",
    "import scipy.linalg as la\n",
    "from math import atan2, pi, sqrt, exp\n",
    "\n",
    "import scipy\n",
    "import tinyarray\n",
    "from IPython.display import display, Math"
   ]
  },
  {
   "cell_type": "markdown",
   "id": "polar-model",
   "metadata": {},
   "source": [
    "The primitive translation vectors of the honeycomb lattice are defined as follows: \n",
    "\n",
    "\\begin{equation*}\n",
    "    \\mathbf{a} = [1,0],  \\hspace{3mm} \\mathbf{b} = [\\frac{1}{2}, \\frac{\\sqrt{3}}{2}],\n",
    "\\end{equation*}\n",
    "together with a vector connecting A and B sites equal to $\\mathbf{c} = [0 , \\frac{1}{\\sqrt{3}}]$.  "
   ]
  },
  {
   "cell_type": "code",
   "execution_count": 2,
   "id": "oriented-drive",
   "metadata": {},
   "outputs": [],
   "source": [
    "#The fundamental translation vectors\n",
    "a = np.array([1, 0])\n",
    "b = np.array([1/2, np.sqrt(3)/2])\n",
    "\n",
    "#Vector from A to B site\n",
    "c = np.array([0, 1/(np.sqrt(3))])\n",
    "\n",
    "#Vectors AB\n",
    "delta_AB_1 = c \n",
    "delta_AB_2 = c - b\n",
    "delta_AB_3 = a - b + c \n",
    "deltas_AB = [delta_AB_1, delta_AB_2, delta_AB_3]\n",
    "\n",
    "#Vectors BA\n",
    "delta_BA_1 = (-1)*c \n",
    "delta_BA_2 = b-c\n",
    "delta_BA_3 = (-1)*(a - b + c)\n",
    "deltas_BA = [delta_BA_1, delta_BA_2, delta_BA_3]\n",
    "\n",
    "#Vectors AA \n",
    "delta_AA_1 = (-1)*a\n",
    "delta_AA_2 = b \n",
    "delta_AA_3 = a-b \n",
    "delta_AA_4 = a \n",
    "delta_AA_5 = (-1)*b  \n",
    "delta_AA_6 = np.array([-0.5, np.sqrt(3)/(2)]) \n",
    "deltas_AA = [delta_AA_1, delta_AA_2, delta_AA_3, delta_AA_4, delta_AA_5, delta_AA_6]\n",
    "\n",
    "#Vectors BB\n",
    "delta_BB_1 = (-1)*a\n",
    "delta_BB_2 = b\n",
    "delta_BB_3 = a-b \n",
    "delta_BB_4 = a \n",
    "delta_BB_5 = (-1)*b\n",
    "delta_BB_6 = b-a \n",
    "deltas_BB = [delta_BB_1, delta_BB_2, delta_BB_3, delta_BB_4, delta_BB_5, delta_BB_6]"
   ]
  },
  {
   "cell_type": "markdown",
   "id": "pharmaceutical-implement",
   "metadata": {},
   "source": [
    "Here, we create function $f_k$ that calculates sum of exponents in the form of  $\\sum_{j} e^{i \\mathbf{k} \\cdot \\mathbf{a}_j}$ multiplied by the hopping term. $\\mathbf{a}_j$ are the vectors connecting nearest and next-nearest-neighbours. "
   ]
  },
  {
   "cell_type": "code",
   "execution_count": 3,
   "id": "supported-gravity",
   "metadata": {},
   "outputs": [],
   "source": [
    "#range of k\n",
    "N=100\n",
    "kx = np.linspace(-4*np.pi/(3), 4*np.pi/(3), N)\n",
    "ky = np.linspace(-8*np.pi/(7), 8*np.pi/(7), N)\n",
    "\n",
    "#function that calculates e_k\n",
    "def f_k(deltas_table, t_table, kx, ky):\n",
    "    sum_f = 0\n",
    "    for i in range(len(deltas_table)):\n",
    "        sum_f += t_table[i] * np.exp(1j * (kx * deltas_table[i][0] + ky * deltas_table[i][1]))\n",
    "    return sum_f"
   ]
  },
  {
   "cell_type": "markdown",
   "id": "differential-orange",
   "metadata": {},
   "source": [
    "The following tight-binding Hamiltonian was adopted:\n",
    "\n",
    "\\begin{equation}\n",
    "H_\\alpha = \\sum_{\\langle \\langle i,j \\rangle \\rangle,\\alpha} \\left( t_\\alpha \\tau_{\\alpha} v_{i,j} a_{i}^\\dagger a_{j}   \\right) \n",
    " + \\sum_{i \\in \\alpha} \\left( \\tau_{\\alpha} M n_i \\right), \\hspace{4mm}\n",
    "H_{AB} = - t_{AB} \\sum_{\\langle i,j \\rangle} \\left( a_{i}^\\dagger a_j \\right),\n",
    "\\end{equation}\n",
    "\n",
    "where: \n",
    "\n",
    "$\\alpha = A,B$ denotes the two sublattices with $\\tau_A = - \\tau_B$ = 1,  \n",
    "\n",
    "$v_{i,j} = \\pm 1$ denotes the two opposite hopping directions (+1 for clokwise, -1 for anticlockwise), \n",
    "\n",
    "$t_A, t_B, t_{AB}$ denote hopping amplitudes, \n",
    "\n",
    "$M$ is the onsite energy. \n",
    "\n",
    "It should be emphasized that next-nearest-neighbour hoppings change sign depending on the direction due to $v_{i,j}$ ($v_{i,j} = 1$ for clockwise path and $v_{i,j} = -1$ for anticlockwise path). Furthermore, hoppings AA have opposite signs to BB due to $\\tau_{\\alpha}$. The class \"Hamiltonian\" contains arrays v_AB, v_BA, v_AA and v_BB which take that into account.\n",
    "\n",
    "Above Hamiltonian can be transformed into momentum space using Fourier transform and\n",
    "presented in matrix form. In the method \"problem_wlasny\" we solve an eigen problem of the matrix: \n",
    "\n",
    "\\begin{equation}\n",
    "H(\\mathbf{k}) = \n",
    "\\begin{pmatrix}\n",
    "f_{AA}(\\mathbf{k}) + M & f_{AB}(\\mathbf{k}) \\\\\n",
    "f_{BA}(\\mathbf{k}) & f_{BB}(\\mathbf{k}) - M\n",
    "\\end{pmatrix},\n",
    "\\end{equation}\n",
    "\n",
    "where \n",
    "\n",
    "$f_{A, A}(\\mathbf{k}) =  \\sum_{\\langle \\langle i,j \\rangle \\rangle} t_{AA} v_{i,j} e^{i \\mathbf{k} \\cdot \\mathbf{\\delta}_{i,j}}$, \n",
    "\n",
    "$f_{B, B}(\\mathbf{k}) =  - \\sum_{\\langle \\langle i,j \\rangle \\rangle} t_{BB} v_{i,j} e^{i \\mathbf{k} \\cdot \\mathbf{\\delta}_{i,j}}$, \n",
    "\n",
    "$f_{A, B}(\\mathbf{k}) = \\sum_{\\langle i,j \\rangle} t_{A} e^{i \\mathbf{k} \\cdot \\mathbf{\\Delta}_{i,j}}$, \n",
    "\n",
    "$f_{B, A}(\\mathbf{k}) = \\sum_{\\langle i,j \\rangle} t_{B} e^{i \\mathbf{k} \\cdot \\mathbf{\\Delta}_{i,j}}$. \n",
    "\n",
    "$\\mathbf{\\Delta}_{i,j}$ and $\\mathbf{\\delta}_{i,j}$  are the vectors connecting nearest and next-nearest-neighbours (defined in the cell two above). $f_{\\alpha, \\alpha^{\\prime}}(\\mathbf{k})$ is calculated with function $f_k$ that is defined in one cell above. The onsite energy has been taken as $M = 0.2$, and hopping amplitude $t_{AB}$ as 1. Next-nearest-neighbour hopping amplitudes are equal for both sublattices ($t_A$ = $t_B$). \n",
    "\n",
    "Every result and chart presented below was created based on this parameter definition.  It should be noted that this Python script allow for easy adjustment of these values. Especially hopping amplitudes ($t_A$ = $t_B$) should be manipulated in order to see when the material becomes the Chern insulator.\n"
   ]
  },
  {
   "cell_type": "code",
   "execution_count": 4,
   "id": "funded-sympathy",
   "metadata": {},
   "outputs": [],
   "source": [
    "#Definition of the calss that contains onsite energy, hopping arrays and primitive translation vectors arrays \n",
    "class Hamiltonian:\n",
    "    def __init__(self, onsite, t_AB, t_BA, t_AA, t_BB, deltas_AB_table, deltas_BA_table, deltas_AA_table, deltas_BB_table):\n",
    "        self.onsite = onsite\n",
    "        #Tables of hopping signs\n",
    "        self.v_AB = np.array([1, 1 ,1])\n",
    "        self.v_BA = np.array([1, 1, 1])\n",
    "        self.v_AA = np.array([1, 1, 1, -1, -1, -1])\n",
    "        self.v_BB = np.array([1, 1, 1, -1, -1, -1])*(-1)\n",
    "        #Tables of hoppings\n",
    "        self.t_AB_table = t_AB*self.v_AB\n",
    "        self.t_BA_table = t_BA*self.v_BA\n",
    "        self.t_AA_table = t_AA*self.v_AA\n",
    "        self.t_BB_table = t_BB*self.v_BB\n",
    "        self.deltas_AB_table = deltas_AB_table\n",
    "        self.deltas_BA_table = deltas_BA_table\n",
    "        self.deltas_AA_table = deltas_AA_table\n",
    "        self.deltas_BB_table = deltas_BB_table\n",
    "#Method that solves an eigen problem\n",
    "    def problem_wlasny(self, kx, ky):\n",
    "            Matrix = np.zeros((2,2), dtype = complex)\n",
    "            Matrix[0][1] = f_k(self.deltas_AB_table, self.t_AB_table, kx, ky)\n",
    "            Matrix[1][0] = f_k(self.deltas_BA_table, self.t_BA_table, kx, ky)\n",
    "            Matrix[0][0] = self.onsite + f_k(self.deltas_AA_table, self.t_AA_table, kx, ky)\n",
    "            Matrix[1][1] = -self.onsite + f_k(self.deltas_BB_table, self.t_BB_table, kx, ky)\n",
    "            ene, v = np.linalg.eigh(Matrix) \n",
    "            return ene, v "
   ]
  },
  {
   "cell_type": "markdown",
   "id": "textile-hybrid",
   "metadata": {},
   "source": [
    "Here, we only draw function $f_k$ to see, if everything works fine."
   ]
  },
  {
   "cell_type": "code",
   "execution_count": 21,
   "id": "heard-paper",
   "metadata": {},
   "outputs": [
    {
     "name": "stdout",
     "output_type": "stream",
     "text": [
      "Onsite energy = 0.2\n",
      "t_aa = -0.03849001794597505j\n"
     ]
    },
    {
     "data": {
      "text/plain": [
       "<function matplotlib.pyplot.show(close=None, block=None)>"
      ]
     },
     "execution_count": 21,
     "metadata": {},
     "output_type": "execute_result"
    },
    {
     "data": {
      "image/png": "[encoded data removed]",
      "text/plain": [
       "<Figure size 432x288 with 2 Axes>"
      ]
     },
     "metadata": {
      "needs_background": "light"
     },
     "output_type": "display_data"
    }
   ],
   "source": [
    "#Drawing f_k function\n",
    "Onsite = 0.2\n",
    "t_aa = -1j*Onsite/(3*np.sqrt(3))\n",
    "t_bb = -1j*Onsite/(3*np.sqrt(3))\n",
    "t_AB = np.array([1, 1 ,1])\n",
    "t_BA = np.array([1, 1, 1])\n",
    "t_AA = np.array([1, 1, 1, -1, -1, -1])*t_aa\n",
    "t_BB = np.array([-1, -1, -1, 1, 1, 1])*t_bb\n",
    "\n",
    "Kx, Ky = np.meshgrid(kx,ky)\n",
    "e_AB_values = np.zeros((N,N), dtype = complex)\n",
    "e_BA_values = np.zeros((N,N), dtype = complex)\n",
    "e_AA_values = np.zeros((N,N), dtype = complex)\n",
    "e_BB_values = np.zeros((N,N), dtype = complex)\n",
    "for i in range(N):\n",
    "    for j in range(N):\n",
    "        e_AB_values[i][j] = f_k(deltas_AB, t_AB, kx[i],ky[j]) \n",
    "        e_BA_values[i][j] = f_k(deltas_BA, t_BA, kx[i],ky[j]) \n",
    "        e_AA_values[i][j] = f_k(deltas_AA, t_AA, kx[i],ky[j]) \n",
    "        e_BB_values[i][j] = f_k(deltas_BB, t_BB, kx[i],ky[j]) \n",
    "\n",
    "print(f\"Onsite energy = {Onsite}\")\n",
    "print(f\"t_aa = {t_aa}\")\n",
    "    \n",
    "fig, axs = plt.subplots(2, 2, figsize=(10, 8))\n",
    "    \n",
    "axs[0, 0].pcolor(Kx, Ky, abs(e_AB_values),  shading='auto' )\n",
    "#axs[0, 0].set_xlabel(\"kx\")\n",
    "axs[0, 0].set_ylabel(\"ky\")\n",
    "axs[0, 0].set_title(\"AB\")\n",
    "    \n",
    "axs[0, 1].pcolor(Kx, Ky, abs(e_BA_values),  shading='auto' )\n",
    "#axs[0, 1].set_xlabel(\"kx\")\n",
    "axs[0, 1].set_ylabel(\"ky\")\n",
    "axs[0, 1].set_title(\"BA\")\n",
    "    \n",
    "axs[1, 0].pcolor(Kx, Ky, abs(e_AA_values),  shading='auto' )\n",
    "axs[1, 0].set_xlabel(\"kx\")\n",
    "axs[1, 0].set_ylabel(\"ky\")\n",
    "axs[1, 0].set_title(\"AA\")\n",
    "    \n",
    "axs[1, 1].pcolor(Kx, Ky, abs(e_BB_values),  shading='auto' )\n",
    "axs[1, 1].set_xlabel(\"kx\")\n",
    "axs[1, 1].set_ylabel(\"ky\")\n",
    "axs[1, 1].set_title(\"BB\")\n",
    "\n",
    "# plt.pcolor(Kx, Ky, abs(e_AB_values),  shading='auto' )\n",
    "# plt.xlabel(\"kx\")\n",
    "# plt.ylabel(\"ky\")\n",
    "# plt.colorbar()\n",
    "# plt.title(r\"$|f_{A,B}(\\mathbf{k})| = |f_{B,A}(\\mathbf{k})|$\")\n",
    "# plt.savefig('f_k_1.jpg', dpi = 300, bbox_inches='tight')\n",
    "# plt.show\n",
    "\n",
    "# plt.pcolor(Kx, Ky, abs(e_AA_values),  shading='auto' )\n",
    "# plt.xlabel(\"kx\")\n",
    "# plt.ylabel(\"ky\")\n",
    "# plt.title(r\"$|f_{A}(\\mathbf{k})| = |f_{B}(\\mathbf{k})|$\")\n",
    "# plt.savefig('f_k_2.jpg', dpi = 300, bbox_inches='tight')\n",
    "# plt.show"
   ]
  },
  {
   "cell_type": "markdown",
   "id": "behind-tobacco",
   "metadata": {},
   "source": [
    "Now, we calculate the bandstructure:"
   ]
  },
  {
   "cell_type": "code",
   "execution_count": 6,
   "id": "accomplished-turkish",
   "metadata": {},
   "outputs": [
    {
     "data": {
      "application/vnd.jupyter.widget-view+json": {
       "model_id": "ee5c89175dfc4caab5a3cfe2363d361a",
       "version_major": 2,
       "version_minor": 0
      },
      "text/plain": [
       "interactive(children=(IntSlider(value=0, description='p', max=40, min=-40), Output()), _dom_classes=('widget-i…"
      ]
     },
     "metadata": {},
     "output_type": "display_data"
    },
    {
     "data": {
      "text/plain": [
       "<function __main__.plot_wf(p=0)>"
      ]
     },
     "execution_count": 6,
     "metadata": {},
     "output_type": "execute_result"
    }
   ],
   "source": [
    "def plot_wf(p=0):\n",
    "    #onsite energy\n",
    "    Onsite = 0.2\n",
    "\n",
    "    #Hopping energies\n",
    "    t_AA = 0.1j*p*Onsite/(3*np.sqrt(3))\n",
    "    t_BB = 0.1j*p*Onsite/(3*np.sqrt(3))\n",
    "    t_AB = 1\n",
    "    t_BA = 1\n",
    "    k_matrix_plus = np.zeros((N,N))\n",
    "    k_matrix_minus = np.zeros((N,N))\n",
    "    \n",
    "    #Hamiltonian Matrix\n",
    "    for i in range(N):\n",
    "        for j in range(N):\n",
    "            hamiltonian = Hamiltonian(Onsite, t_AB, t_BA, t_AA, t_BB, deltas_AB, deltas_BA, deltas_AA, deltas_BB)\n",
    "            ene, v = hamiltonian.problem_wlasny(kx[i], ky[j])\n",
    "            k_matrix_plus[i][j] = ene[0]\n",
    "            k_matrix_minus[i][j] = ene[1]\n",
    "    #Visualization\n",
    "    print(f\"Onsite energy = {Onsite}\")\n",
    "    print(f\"t_aa = {t_AA}\")\n",
    "    print(f\"t_bb = {t_BB}\")\n",
    "    Kx, Ky = np.meshgrid(kx,ky)\n",
    "    fig = plt.figure(figsize=(8, 6))\n",
    "    ax = fig.add_subplot(111, projection='3d')\n",
    "    ax.plot_surface(Kx, Ky, k_matrix_plus, cmap='viridis')\n",
    "    ax.plot_surface(Kx, Ky, k_matrix_minus, cmap='viridis')\n",
    "    ax.set_xlabel(\"$k_x$\")\n",
    "    ax.set_ylabel(\"$k_y$\")\n",
    "    ax.set_zlabel(\"Energia $E(\\mathbf{k})$\")\n",
    "    plt.show()\n",
    "    print(p)\n",
    "interact(plot_wf, p=(-40,40))"
   ]
  },
  {
   "cell_type": "markdown",
   "id": "american-superior",
   "metadata": {},
   "source": [
    "We will calculate the bandstructure again, but this time, we take $\\mathbf{k}$ on a certain path that contains characteristic points ($\\Gamma$, $K^{'}$, $M$, $K$, $\\Gamma$). Below, we define the path."
   ]
  },
  {
   "cell_type": "code",
   "execution_count": 7,
   "id": "junior-michael",
   "metadata": {},
   "outputs": [],
   "source": [
    "# Point definition in the first Brillouin zone\n",
    "# Path: Gamma -> K' -> M -> K -> Gamma\n",
    "K2 = np.array([2*np.pi/(3), 2*np.pi*np.sqrt(3)/(3)])\n",
    "Gamma = np.array([0, 0])\n",
    "M = np.array([2*np.pi/(2), 2*np.pi*np.sqrt(3)/(6)])\n",
    "K = np.array([2*np.pi*2/(3), 0])\n",
    "path_points = [Gamma, K2, M, K, Gamma]\n",
    "path_labels = [\"Γ\", \"K'\", \"M\",\"K\", \"Γ\"]\n",
    "\n",
    "# Generating k-values on the path\n",
    "num_points = 200\n",
    "k_vals = []\n",
    "for i in range(len(path_points) - 1):\n",
    "    k_vals += list(np.linspace(path_points[i], path_points[i+1], num_points))"
   ]
  },
  {
   "cell_type": "markdown",
   "id": "altered-award",
   "metadata": {},
   "source": [
    "Now, we can calculate the bandstructure."
   ]
  },
  {
   "cell_type": "code",
   "execution_count": 8,
   "id": "infrared-hopkins",
   "metadata": {},
   "outputs": [
    {
     "data": {
      "application/vnd.jupyter.widget-view+json": {
       "model_id": "9fb34b054748464e8b284f671607e897",
       "version_major": 2,
       "version_minor": 0
      },
      "text/plain": [
       "interactive(children=(IntSlider(value=0, description='p', max=40, min=-40), Output()), _dom_classes=('widget-i…"
      ]
     },
     "metadata": {},
     "output_type": "display_data"
    },
    {
     "data": {
      "text/plain": [
       "<function __main__.plot_wf2(p=0)>"
      ]
     },
     "execution_count": 8,
     "metadata": {},
     "output_type": "execute_result"
    }
   ],
   "source": [
    "def plot_wf2(p=0):\n",
    "    #onsite energy\n",
    "    Onsite = 0.2\n",
    "    #Hopping energies\n",
    "    t_AA = 0.1j*p*Onsite/(3*np.sqrt(3))\n",
    "    t_BB = 0.1j*p*Onsite/(3*np.sqrt(3))\n",
    "    t_AB = 1\n",
    "    t_BA = 1\n",
    "    \n",
    "    k_matrix_plus2 = []\n",
    "    k_matrix_minus2 = []\n",
    "    for index, kvals in enumerate(k_vals):\n",
    "        kx_vals, ky_vals = kvals\n",
    "        hamiltonian = Hamiltonian(Onsite, t_AB, t_BA, t_AA, t_BB, deltas_AB, deltas_BA, deltas_AA, deltas_BB)\n",
    "        ene, v = hamiltonian.problem_wlasny(kx_vals, ky_vals)\n",
    "        k_matrix_plus2.append(ene[0])\n",
    "        k_matrix_minus2.append(ene[1])\n",
    "    print(f\"Onsite energy = {Onsite}\")\n",
    "    print(f\"t_aa = {t_AA}\")\n",
    "    print(f\"t_bb = {t_BB}\")\n",
    "    # Rysowanie struktury pasmowej\n",
    "    plt.figure(figsize=(8, 6))\n",
    "    plt.plot(k_matrix_plus2, label=\"Pasmo walencyjne\")\n",
    "    plt.plot(k_matrix_minus2, label=\"Pasmo przewodnictwa\")\n",
    "    plt.xticks([0, num_points, 2*num_points, 3*num_points, 4*num_points], path_labels)\n",
    "    plt.xlabel(\"k\")\n",
    "    plt.ylabel(\"E\")\n",
    "   # plt.title(r\"$t_A < - \\frac{M}{3\\sqrt{3}}$\", fontsize = 30)\n",
    "  #  plt.savefig('Band_5.jpg', dpi = 300, bbox_inches='tight')\n",
    "    plt.legend()\n",
    "    plt.show()\n",
    "\n",
    "interact(plot_wf2, p=(-40,40))"
   ]
  },
  {
   "cell_type": "markdown",
   "id": "lovely-therapist",
   "metadata": {},
   "source": [
    "The topological nature of energy bands in the Chern insulator is described by the Chern number. In a two-dimensional system, it is defined based on the geometric structure of wavefunctions in momentum space (the Brillouin zone):\n",
    "\n",
    "\n",
    "\\begin{equation}\n",
    "    C = \\frac{1}{2\\pi}\\int{\\Omega(\\mathbf{k})d^2\\mathbf{k}},\n",
    "\\end{equation}\n",
    "where $\\Omega(\\mathbf{k})$ is the Berry curvature. \n",
    "\n",
    "In conventional insulators, the Chern number is $C=0$, indicating no topological states. In a Chern insulator, $C\\neq 0$, signifying the presence of topologically protected edge states and quantized edge conduction.\n",
    "\n",
    "The Berry curvature is calculated over the parallelogram spanned by the vectors $\\mathbf{b_1}$ and $\\mathbf{b_3} = \\mathbf{b_1} + \\mathbf{b_2}$ in reciprocal space, where $\\mathbf{b_1}$ and $\\mathbf{b_2}$ are primitive reciprocal lattice vectors defined as follows: \n",
    "\n",
    "\\begin{equation*}\n",
    "    \\mathbf{b_1} = [2\\pi,2\\pi \\frac{\\sqrt{3}}{3}],  \\hspace{3mm} \\mathbf{b_2} = [0, 4\\pi\\frac{\\sqrt{3}}{3}],\n",
    "\\end{equation*}"
   ]
  },
  {
   "cell_type": "code",
   "execution_count": 9,
   "id": "binary-addiction",
   "metadata": {},
   "outputs": [],
   "source": [
    "#momentum space vectors\n",
    "b1 = np.array([2*np.pi, 2*np.pi*np.sqrt(3)/(3)])\n",
    "b2 = np.array([0,2*np.pi*2*np.sqrt(3)/(3)])\n",
    "b3 = b2 + b1\n",
    "\n",
    "\n",
    "#Creating grid points for caluclating berry curvature and chern number\n",
    "N2 = 100\n",
    "k1 = np.linspace(0, 1, N2)\n",
    "k2 = np.linspace(0, 1, N2)\n",
    "\n",
    "kx_values = np.zeros((N2,N2))\n",
    "ky_values = np.zeros((N2,N2))\n",
    "            \n",
    "grid_points = np.zeros((N2,N2), dtype = object)         \n",
    "\n",
    "for index_i,i in enumerate(k1):\n",
    "    for index_j,j in enumerate(k2):\n",
    "        point  = i*b1 + j*b3\n",
    "        grid_points[index_i][index_j] = point\n",
    "        #kx and ky values for drawing berry curvature\n",
    "        kx_values[index_i][index_j] = (grid_points[index_i][index_j][0])\n",
    "        ky_values[index_i][index_j] = (grid_points[index_i][index_j][1])\n"
   ]
  },
  {
   "cell_type": "markdown",
   "id": "appointed-mother",
   "metadata": {},
   "source": [
    "Here, we calculate and draw the Berry curvature. Afterwards we calculate the Chern number. "
   ]
  },
  {
   "cell_type": "code",
   "execution_count": 10,
   "id": "destroyed-placement",
   "metadata": {},
   "outputs": [
    {
     "name": "stderr",
     "output_type": "stream",
     "text": [
      "/tmp/ipykernel_29452/3271838774.py:29: MatplotlibDeprecationWarning: shading='flat' when X and Y have the same dimensions as C is deprecated since 3.3.  Either specify the corners of the quadrilaterals with X and Y, or pass shading='auto', 'nearest' or 'gouraud', or set rcParams['pcolor.shading'].  This will become an error two minor releases later.\n",
      "  plt.pcolor(kx_values, ky_values, berry_values)\n"
     ]
    },
    {
     "data": {
      "image/png": "[encoded data removed]",
      "text/plain": [
       "<Figure size 720x432 with 2 Axes>"
      ]
     },
     "metadata": {
      "needs_background": "light"
     },
     "output_type": "display_data"
    },
    {
     "name": "stdout",
     "output_type": "stream",
     "text": [
      "Onsite energy = 0.2\n",
      "t_A = -0.03849001794597505j\n",
      "Chern number = -0.9999999999999994\n"
     ]
    }
   ],
   "source": [
    "wynik = 0\n",
    "iloczyn = 0\n",
    "    \n",
    "#onsite energy\n",
    "Onsite = 0.2\n",
    "#Hopping energies\n",
    "t_AA = 2j*Onsite/(3*np.sqrt(3))\n",
    "t_BB = 2j*Onsite/(3*np.sqrt(3))\n",
    "t_AB = 1\n",
    "t_BA = 1\n",
    "#Berry curvature values table for drawing \n",
    "berry_values = np.zeros((N2,N2))\n",
    "\n",
    "for i in range (N2-1):\n",
    "    for j in range (N2-1):\n",
    "        hamiltonian = Hamiltonian(Onsite, t_AB, t_BA, t_AA, t_BB, deltas_AB, deltas_BA, deltas_AA, deltas_BB)\n",
    "        ene1, v1 = hamiltonian.problem_wlasny(grid_points[i][j][0], grid_points[i][j][1])\n",
    "        ene2, v2 = hamiltonian.problem_wlasny(grid_points[i+1][j][0], grid_points[i+1][j][1])\n",
    "        ene3, v3 = hamiltonian.problem_wlasny(grid_points[i+1][j+1][0], grid_points[i+1][j+1][1])\n",
    "        ene4, v4 = hamiltonian.problem_wlasny(grid_points[i][j+1][0], grid_points[i][j+1][1])\n",
    "            \n",
    "        iloczyn = (v1[0][1].conjugate()*v2[0][1] + v1[1][1].conjugate()*v2[1][1]) * (v2[0][1].conjugate()*v3[0][1] + v2[1][1].conjugate()*v3[1][1])  * (v3[0][1].conjugate()*v4[0][1] + v3[1][1].conjugate()*v4[1][1]) * (v4[0][1].conjugate()*v1[0][1] + v4[1][1].conjugate()*v1[1][1]) #iloczyn skalarny\n",
    "        wynik += np.angle(iloczyn) \n",
    "        berry_values[i][j]=np.angle(iloczyn)\n",
    "#Chern number\n",
    "chern = wynik/(2*np.pi)\n",
    "#Drawing berry curvature\n",
    "plt.figure(figsize=(10, 6))\n",
    "plt.pcolor(kx_values, ky_values, berry_values) \n",
    "plt.title(\"Berry curvature\")\n",
    "plt.colorbar() \n",
    "plt.xlabel(\"kx\")\n",
    "plt.ylabel(\"ky\")\n",
    "#plt.savefig('Berry_3.jpg', dpi = 300, bbox_inches='tight')\n",
    "plt.show()   \n",
    "print(f\"Onsite energy = {Onsite}\")\n",
    "print(f\"t_A = {t_aa}\")\n",
    "print(f\"Chern number = {chern}\")"
   ]
  },
  {
   "cell_type": "markdown",
   "id": "great-cisco",
   "metadata": {},
   "source": [
    "In cells below, the Chern number is calculated again, but for different values of the parameter $t_A = t_B$. The results are saved to an array \"dane_chern\"."
   ]
  },
  {
   "cell_type": "code",
   "execution_count": 11,
   "id": "operating-estate",
   "metadata": {},
   "outputs": [],
   "source": [
    "# table_t_aa = []\n",
    "# table_chern = []\n",
    "# for i in range(-40,41):\n",
    "#     wynik = 0\n",
    "#     iloczyn = 0\n",
    "#     print(i)\n",
    "#     #onsite energy\n",
    "#     Onsite = 0.2\n",
    "#     #Hopping energies\n",
    "#     t_AA = 0.05j*i*Onsite/(3*np.sqrt(3))\n",
    "#     t_BB = 0.05j*i*Onsite/(3*np.sqrt(3))\n",
    "#     t_aa_2 = 0.05*i*Onsite/(3*np.sqrt(3))\n",
    "#     t_AB = 1\n",
    "#     t_BA = 1\n",
    "\n",
    "#     #potrzebne do rysowania krzywizny berry'ego\n",
    "#     berry_values = np.zeros((N2,N2), dtype = complex)\n",
    "\n",
    "#     for i in range (N2-1):\n",
    "#         for j in range (N2-1):\n",
    "#             hamiltonian = Hamiltonian(Onsite, t_AB, t_BA, t_AA, t_BB, deltas_AB, deltas_BA, deltas_AA, deltas_BB)\n",
    "#             ene1, v1 = hamiltonian.problem_wlasny(grid_points[i][j][0], grid_points[i][j][1])\n",
    "#             ene2, v2 = hamiltonian.problem_wlasny(grid_points[i+1][j][0], grid_points[i+1][j][1])\n",
    "#             ene3, v3 = hamiltonian.problem_wlasny(grid_points[i+1][j+1][0], grid_points[i+1][j+1][1])\n",
    "#             ene4, v4 = hamiltonian.problem_wlasny(grid_points[i][j+1][0], grid_points[i][j+1][1])\n",
    "\n",
    "#             iloczyn = (v1[0][1].conjugate()*v2[0][1] + v1[1][1].conjugate()*v2[1][1]) * (v2[0][1].conjugate()*v3[0][1] + v2[1][1].conjugate()*v3[1][1])  * (v3[0][1].conjugate()*v4[0][1] + v3[1][1].conjugate()*v4[1][1]) * (v4[0][1].conjugate()*v1[0][1] + v4[1][1].conjugate()*v1[1][1]) #iloczyn skalarny\n",
    "#             berry_values[i][j]=iloczyn\n",
    "#             wynik += np.angle(iloczyn) \n",
    "#     #Liczba Cherna\n",
    "#     chern = wynik/(2*np.pi)\n",
    "#     table_t_aa.append(t_aa_2)\n",
    "#     table_chern.append(chern)"
   ]
  },
  {
   "cell_type": "code",
   "execution_count": 12,
   "id": "french-gather",
   "metadata": {},
   "outputs": [],
   "source": [
    "# with open(\"dane_chern.txt\", \"w\") as plik:\n",
    "#     for x, y in zip(table_t_aa, table_chern):\n",
    "#         plik.write(f\"{x}\\t{y}\\n\")"
   ]
  },
  {
   "cell_type": "markdown",
   "id": "removable-administrator",
   "metadata": {},
   "source": [
    "Now, we can draw the dependence of Chern number on the hopping apmlitude $t_A = t_B$, using data stored in \"dane_chern\""
   ]
  },
  {
   "cell_type": "code",
   "execution_count": 13,
   "id": "herbal-certificate",
   "metadata": {},
   "outputs": [
    {
     "data": {
      "text/plain": [
       "<function matplotlib.pyplot.show(close=None, block=None)>"
      ]
     },
     "execution_count": 13,
     "metadata": {},
     "output_type": "execute_result"
    },
    {
     "data": {
      "image/png": "[encoded data removed]",
      "text/plain": [
       "<Figure size 432x288 with 1 Axes>"
      ]
     },
     "metadata": {
      "needs_background": "light"
     },
     "output_type": "display_data"
    }
   ],
   "source": [
    "with open(\"dane_chern.txt\", \"r\") as plik:\n",
    "    kolumna1 = []\n",
    "    kolumna2 = []\n",
    "    t_aax = []\n",
    "    for linia in plik:\n",
    "        x, y = map(float, linia.split())  \n",
    "        kolumna1.append(x*3*np.sqrt(3)/Onsite) #values of t_aa\n",
    "        t_aax.append(x) #Values of t_aa\n",
    "        kolumna2.append(y) \n",
    "        \n",
    "#plt.figure(figsize=(10, 6))\n",
    "plt.plot(kolumna1, kolumna2)\n",
    "plt.xlabel(r\"$\\frac{t_{A} \\cdot 3 \\cdot \\sqrt{3}}{M}$\", fontsize = 20)\n",
    "plt.ylabel(\"Chern number\", fontsize = 16)\n",
    "plt.savefig('Chern.jpg', dpi = 300, bbox_inches='tight')\n",
    "plt.title(\"Chern number as a function of parameter t_A\", fontsize = 15)\n",
    "plt.show\n"
   ]
  },
  {
   "cell_type": "markdown",
   "id": "recognized-relations",
   "metadata": {},
   "source": [
    "In the cells below, we will calculate the band structure again but this time with the help of the Kwant package. We create a system with certain height and width, we define primitive translation vectors and hoppings. Kwant creates the Hamiltonian and solves the eigen problem automatically. \n",
    "We are also plotting the propability density and the current. We take into account two different lattice boundaries: zigzag and armchair."
   ]
  },
  {
   "cell_type": "code",
   "execution_count": 18,
   "id": "italian-yesterday",
   "metadata": {},
   "outputs": [
    {
     "data": {
      "application/vnd.jupyter.widget-view+json": {
       "model_id": "0fe0729e65ed4bea9727379d81a68c43",
       "version_major": 2,
       "version_minor": 0
      },
      "text/plain": [
       "interactive(children=(IntSlider(value=0, description='p', max=80), Output()), _dom_classes=('widget-interact',…"
      ]
     },
     "metadata": {},
     "output_type": "display_data"
    },
    {
     "data": {
      "text/plain": [
       "<function __main__.plot_wf3(p=0)>"
      ]
     },
     "execution_count": 18,
     "metadata": {},
     "output_type": "execute_result"
    }
   ],
   "source": [
    "#zigzag\n",
    "def plot_wf3(p=0):\n",
    "    sys_gr1 = kwant.Builder()\n",
    "\n",
    "    graphene_lat = kwant.lattice.general([[1, 0], [1/2, np.sqrt(3)/2]],  # lattice vectors\n",
    "                                     [[0, 0], [0, 1/np.sqrt(3)]], norbs=1)  # Coordinates of the sites\n",
    "\n",
    "    lat_A, lat_B = graphene_lat.sublattices\n",
    "\n",
    "    Lmin = -2\n",
    "    Lmax = 2\n",
    "    Wmin = -10\n",
    "    Wmax = 10\n",
    "\n",
    "    Onsite = 0.2\n",
    "    t_ab = 1\n",
    "    t_ba = 1\n",
    "    #t_aa = 0.1j*p*Onsite/(3*np.sqrt(3))\n",
    "    #t_bb = 0.1j*p*Onsite/(3*np.sqrt(3))\n",
    "    t_aa = 1j*t_aax[p] #We go sequentially through the t_aa values in the file dane_chern\n",
    "    t_bb = 1j*t_aax[p]\n",
    "    t_aa_real = t_aax[p] \n",
    "    t_bb_real = t_aax[p]\n",
    "\n",
    "\n",
    "    def ribbon(pos):\n",
    "        x, y = pos\n",
    "        if Lmin<=x<=Lmax and Wmin<=y<=Wmax:\n",
    "            return True\n",
    "        else:\n",
    "            return False\n",
    "\n",
    "\n",
    "    sys_gr1[lat_A.shape(ribbon, (0,0))] = Onsite\n",
    "    sys_gr1[lat_B.shape(ribbon, (0,0))] = -Onsite\n",
    "\n",
    "    sys_gr1[graphene_lat.neighbors()] = t_ab\n",
    "\n",
    "    sys_gr1[kwant.builder.HoppingKind((-1, 0), lat_A, lat_A)] = t_aa  \n",
    "    sys_gr1[kwant.builder.HoppingKind((0, 1), lat_A, lat_A)] = t_aa\n",
    "    sys_gr1[kwant.builder.HoppingKind((1, -1), lat_A, lat_A)] = t_aa\n",
    "\n",
    "    sys_gr1[kwant.builder.HoppingKind((1, 0), lat_B, lat_B)] = t_bb  \n",
    "    sys_gr1[kwant.builder.HoppingKind((0, -1), lat_B, lat_B)] = t_bb\n",
    "    sys_gr1[kwant.builder.HoppingKind((-1, 1), lat_B, lat_B)] = t_bb\n",
    "\n",
    "\n",
    "    def lead0_shape(pos):\n",
    "        x, y = pos\n",
    "        return (Wmin <= y <= Wmax)\n",
    "\n",
    "    sym = kwant.TranslationalSymmetry([-1, 0])\n",
    "    sym.add_site_family(graphene_lat.sublattices[0], other_vectors=[(-1, 2)])\n",
    "    sym.add_site_family(graphene_lat.sublattices[1], other_vectors=[(-1, 2)])\n",
    "\n",
    "    # creating the leads\n",
    "    lead = kwant.Builder(sym) \n",
    "    lead[lat_A.shape(lead0_shape, (0, 0))] = Onsite\n",
    "    lead[lat_B.shape(lead0_shape, (0, 0))] = -Onsite\n",
    "\n",
    "    #lead[(graphene_lat(Lmin, y) for y in range(W))] =0      # no disorder in lead!\n",
    "    lead[graphene_lat.neighbors()] = t_ab\n",
    "\n",
    "\n",
    "    lead[kwant.builder.HoppingKind((-1, 0), lat_A, lat_A)] = t_aa\n",
    "    lead[kwant.builder.HoppingKind((0, 1), lat_A, lat_A)] = t_aa\n",
    "    lead[kwant.builder.HoppingKind((1, -1), lat_A, lat_A)] = t_aa\n",
    "\n",
    "    lead[kwant.builder.HoppingKind((1, 0), lat_B, lat_B)] = t_bb  \n",
    "    lead[kwant.builder.HoppingKind((0, -1), lat_B, lat_B)] = t_bb\n",
    "    lead[kwant.builder.HoppingKind((-1, 1), lat_B, lat_B)] = t_bb\n",
    "\n",
    "    # attaching the leads\n",
    "    sys_gr1.attach_lead(lead)\n",
    "    sys_gr1.attach_lead(lead.reversed())\n",
    "\n",
    "    sysf_gr1 = sys_gr1.finalized()\n",
    "    \n",
    "    kwant.plotter.bands(sysf_gr1.leads[0], show=True,  fig_size = (8,6));\n",
    "    print(f\"Liczba Cherna = {kolumna2[p]}\")\n",
    "    print(f\"t_aa = {t_aa_real}\")\n",
    "    latex = r\"\\frac{{t_{{aa}} \\cdot 3 \\cdot \\sqrt{{3}}}}{{M}} = {}$\".format(kolumna1[p])\n",
    "    display(Math(latex))\n",
    "    \n",
    "    wfs = kwant.wave_function(sysf_gr1, energy=0.000001)\n",
    "    scattering_wf = wfs(0)  # all scattering wave functions from lead 0\n",
    "    \n",
    "    print(\"N =\", np.shape(scattering_wf));\n",
    "    \n",
    "    kwant.plotter.map(sysf_gr1, np.sum(abs(scattering_wf)**2,axis=0));\n",
    "    \n",
    "    J = kwant.operator.Current(sysf_gr1)\n",
    "    current = sum(J(p) for p in scattering_wf)\n",
    "    kwant.plotter.current(sysf_gr1, current);\n",
    "    \n",
    "    kwant.plot(sys_gr1, fig_size = (14,14),)\n",
    "    \n",
    "\n",
    "interact(plot_wf3, p=(0,80))"
   ]
  },
  {
   "cell_type": "code",
   "execution_count": 15,
   "id": "insured-netscape",
   "metadata": {},
   "outputs": [
    {
     "data": {
      "application/vnd.jupyter.widget-view+json": {
       "model_id": "b4fc581a88914b73bfddce0d5d18cd20",
       "version_major": 2,
       "version_minor": 0
      },
      "text/plain": [
       "interactive(children=(IntSlider(value=0, description='p', max=80), Output()), _dom_classes=('widget-interact',…"
      ]
     },
     "metadata": {},
     "output_type": "display_data"
    },
    {
     "data": {
      "text/plain": [
       "<function __main__.plot_wf3(p=0)>"
      ]
     },
     "execution_count": 15,
     "metadata": {},
     "output_type": "execute_result"
    }
   ],
   "source": [
    "#armchair\n",
    "def plot_wf3(p=0):\n",
    "    sys_gr1 = kwant.Builder()\n",
    "\n",
    "    graphene_lat = kwant.lattice.general([[np.sqrt(3)/2, -1/2], [np.sqrt(3)/2, 1/2]],  # lattice vectors\n",
    "                                     [[0,0], [1/(2*np.sqrt(3)), 1/2]], norbs=1)  # Coordinates of the sites\n",
    "\n",
    "    lat_A, lat_B = graphene_lat.sublattices\n",
    "\n",
    "    Lmin = -2\n",
    "    Lmax = 2\n",
    "    Wmin = -10\n",
    "    Wmax = 10\n",
    "\n",
    "    Onsite = 0.2\n",
    "    t_ab = 1\n",
    "    t_ba = 1\n",
    "    #t_aa = 0.1j*p*Onsite/(3*np.sqrt(3))\n",
    "    #t_bb = 0.1j*p*Onsite/(3*np.sqrt(3))\n",
    "    t_aa = 1j*t_aax[p] #We go sequentially through the t_aa values in the file dane_chern\n",
    "    t_bb = 1j*t_aax[p]\n",
    "    t_aa_real = t_aax[p] \n",
    "    t_bb_real = t_aax[p]\n",
    "\n",
    "    def ribbon(pos):\n",
    "        x, y = pos\n",
    "        if Lmin<=x<=Lmax and Wmin<=y<=Wmax:\n",
    "            return True\n",
    "        else:\n",
    "            return False\n",
    "\n",
    "    sys_gr1[lat_A.shape(ribbon, (0,0))] = Onsite\n",
    "    sys_gr1[lat_B.shape(ribbon, (0,0))] = -Onsite\n",
    "\n",
    "    sys_gr1[graphene_lat.neighbors()] = t_ab\n",
    "\n",
    "    sys_gr1[kwant.builder.HoppingKind((-1, 0), lat_A, lat_A)] = t_aa  \n",
    "    sys_gr1[kwant.builder.HoppingKind((0, 1), lat_A, lat_A)] = t_aa\n",
    "    sys_gr1[kwant.builder.HoppingKind((1, -1), lat_A, lat_A)] = t_aa\n",
    "\n",
    "    sys_gr1[kwant.builder.HoppingKind((1, 0), lat_B, lat_B)] = t_bb  \n",
    "    sys_gr1[kwant.builder.HoppingKind((0, -1), lat_B, lat_B)] = t_bb\n",
    "    sys_gr1[kwant.builder.HoppingKind((-1, 1), lat_B, lat_B)] = t_bb\n",
    "\n",
    "\n",
    "    def lead0_shape(pos):\n",
    "        x, y = pos\n",
    "        return (Wmin <= y <= Wmax)\n",
    "\n",
    "    sym = kwant.TranslationalSymmetry([np.sqrt(3), 0])\n",
    "    sym.add_site_family(graphene_lat.sublattices[0], other_vectors=[(1, -1)])\n",
    "    sym.add_site_family(graphene_lat.sublattices[1], other_vectors=[(1, -1)])\n",
    "\n",
    "    # creating the leads\n",
    "    lead = kwant.Builder(sym) \n",
    "    lead[lat_A.shape(lead0_shape, (0, 0))] = Onsite\n",
    "    lead[lat_B.shape(lead0_shape, (0, 0))] = -Onsite\n",
    "\n",
    "    #lead[(graphene_lat(Lmin, y) for y in range(W))] =0      # no disorder in lead!\n",
    "    lead[graphene_lat.neighbors()] = t_ab\n",
    "\n",
    "\n",
    "    lead[kwant.builder.HoppingKind((-1, 0), lat_A, lat_A)] = t_aa\n",
    "    lead[kwant.builder.HoppingKind((0, 1), lat_A, lat_A)] = t_aa\n",
    "    lead[kwant.builder.HoppingKind((1, -1), lat_A, lat_A)] = t_aa\n",
    "\n",
    "    lead[kwant.builder.HoppingKind((1, 0), lat_B, lat_B)] = t_bb  \n",
    "    lead[kwant.builder.HoppingKind((0, -1), lat_B, lat_B)] = t_bb\n",
    "    lead[kwant.builder.HoppingKind((-1, 1), lat_B, lat_B)] = t_bb\n",
    "\n",
    "    # attaching the leads\n",
    "    sys_gr1.attach_lead(lead)\n",
    "    sys_gr1.attach_lead(lead.reversed())\n",
    "\n",
    "    sysf_gr1 = sys_gr1.finalized()\n",
    "\n",
    "    kwant.plotter.bands(sysf_gr1.leads[0], show=True,  fig_size = (8,6));\n",
    "    print(f\"Liczba Cherna = {kolumna2[p]}\")\n",
    "    print(f\"t_aa = {t_aa_real}\")\n",
    "    latex = r\"\\frac{{t_{{aa}} \\cdot 3 \\cdot \\sqrt{{3}}}}{{M}} = {}$\".format(kolumna1[p])\n",
    "    display(Math(latex))\n",
    "    \n",
    "    wfs = kwant.wave_function(sysf_gr1, energy=0.01)\n",
    "    scattering_wf = wfs(0)  # all scattering wave functions from lead 0\n",
    "    \n",
    "    print(\"N =\", np.shape(scattering_wf));\n",
    "    \n",
    "    kwant.plotter.map(sysf_gr1, np.sum(abs(scattering_wf)**2,axis=0));\n",
    "    \n",
    "    J = kwant.operator.Current(sysf_gr1)\n",
    "    current = sum(J(p) for p in scattering_wf)\n",
    "    kwant.plotter.current(sysf_gr1, current);\n",
    "    \n",
    "    kwant.plot(sys_gr1, fig_size = (14,14),)\n",
    "interact(plot_wf3, p=(0,80))"
   ]
  },
  {
   "cell_type": "markdown",
   "id": "ambient-charleston",
   "metadata": {},
   "source": [
    "# Acknowledgements\n",
    "\n",
    "This research was funded by the National Science Centre Poland (NCN) according to decision 2021/42/E/ST3/00128"
   ]
  },
  {
   "cell_type": "code",
   "execution_count": null,
   "id": "through-annex",
   "metadata": {},
   "outputs": [],
   "source": []
  }
 ],
 "metadata": {
  "kernelspec": {
   "display_name": "pykwant2021",
   "language": "python",
   "name": "pykwant2021"
  },
  "language_info": {
   "codemirror_mode": {
    "name": "ipython",
    "version": 3
   },
   "file_extension": ".py",
   "mimetype": "text/x-python",
   "name": "python",
   "nbconvert_exporter": "python",
   "pygments_lexer": "ipython3",
   "version": "3.8.12"
  }
 },
 "nbformat": 4,
 "nbformat_minor": 5
}
